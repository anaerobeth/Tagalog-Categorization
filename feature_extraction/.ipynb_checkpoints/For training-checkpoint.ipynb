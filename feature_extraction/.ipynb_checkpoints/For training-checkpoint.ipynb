{
 "cells": [
  {
   "cell_type": "code",
   "execution_count": 1,
   "metadata": {
    "collapsed": false,
    "deletable": true,
    "editable": true
   },
   "outputs": [],
   "source": [
    "import csv\n",
    "import numpy as np\n",
    "import pandas as pd\n",
    "from sklearn.model_selection import train_test_split\n",
    "from sklearn.metrics import confusion_matrix\n",
    "from sklearn.feature_extraction.text import TfidfVectorizer\n",
    "from sklearn.multiclass import OneVsRestClassifier\n",
    "from sklearn.svm import LinearSVC\n",
    "from sklearn.metrics import f1_score"
   ]
  },
  {
   "cell_type": "code",
   "execution_count": 2,
   "metadata": {
    "collapsed": false
   },
   "outputs": [],
   "source": [
    "from preprocessing import remove_punct_num\n",
    "from preprocessing import remove_stopwords\n",
    "from preprocessing import stemmer2"
   ]
  },
  {
   "cell_type": "code",
   "execution_count": 3,
   "metadata": {
    "collapsed": false,
    "deletable": true,
    "editable": true
   },
   "outputs": [],
   "source": [
    "df = pd.read_csv('../data/shuffled.csv')\n",
    "X, y = df['content'], df['multiclass']\n",
    "X_train, X_test, y_train, y_test = train_test_split(X, y, test_size=0.20, random_state=42)"
   ]
  },
  {
   "cell_type": "code",
   "execution_count": 4,
   "metadata": {
    "collapsed": false,
    "deletable": true,
    "editable": true
   },
   "outputs": [
    {
     "name": "stdout",
     "output_type": "stream",
     "text": [
      "(1696, 22824)\n"
     ]
    }
   ],
   "source": [
    "vectorizer = TfidfVectorizer(min_df=1) #max_features=5000 #, binary=True, norm=None, use_idf=False\n",
    "X= vectorizer.fit_transform(X_train) \n",
    "train_data_features = X.toarray()\n",
    "\n",
    "print train_data_features.shape"
   ]
  },
  {
   "cell_type": "code",
   "execution_count": 5,
   "metadata": {
    "collapsed": false,
    "deletable": true,
    "editable": true
   },
   "outputs": [
    {
     "data": {
      "text/plain": [
       "OneVsRestClassifier(estimator=LinearSVC(C=1.0, class_weight=None, dual=True, fit_intercept=True,\n",
       "     intercept_scaling=1, loss='squared_hinge', max_iter=1000,\n",
       "     multi_class='ovr', penalty='l2', random_state=42, tol=0.0001,\n",
       "     verbose=0),\n",
       "          n_jobs=1)"
      ]
     },
     "execution_count": 5,
     "metadata": {},
     "output_type": "execute_result"
    }
   ],
   "source": [
    "clf = OneVsRestClassifier(LinearSVC(C=1.0,random_state=42, max_iter=1000)) # C=1.0\n",
    "clf.fit(train_data_features,y_train)"
   ]
  },
  {
   "cell_type": "code",
   "execution_count": 6,
   "metadata": {
    "collapsed": false
   },
   "outputs": [],
   "source": [
    "test_data_features = vectorizer.transform(X_test)\n",
    "accuracy = clf.score(test_data_features,y_test)"
   ]
  },
  {
   "cell_type": "code",
   "execution_count": 7,
   "metadata": {
    "collapsed": false
   },
   "outputs": [
    {
     "name": "stdout",
     "output_type": "stream",
     "text": [
      "0.92\n"
     ]
    }
   ],
   "source": [
    "print accuracy"
   ]
  },
  {
   "cell_type": "code",
   "execution_count": 8,
   "metadata": {
    "collapsed": true
   },
   "outputs": [],
   "source": [
    "pred = clf.predict(test_data_features)"
   ]
  },
  {
   "cell_type": "code",
   "execution_count": 9,
   "metadata": {
    "collapsed": false
   },
   "outputs": [
    {
     "name": "stdout",
     "output_type": "stream",
     "text": [
      "[5 2 6 2 6 1 1 6 5 0 3 2 1 5 0 0 5 6 5 4 5 5 1 0 5 4 3 6 0 1 0 3 1 6 5 6 1\n",
      " 5 1 1 5 5 2 2 1 2 1 1 5 3 0 3 2 0 5 4 0 6 0 2 1 6 5 4 7 5 3 1 7 2 1 3 1 5\n",
      " 3 6 2 6 1 0 1 3 6 0 3 5 5 6 2 1 4 4 5 5 5 4 6 4 6 2 4 1 6 2 6 1 6 1 6 6 7\n",
      " 2 5 0 2 1 5 1 4 0 1 5 3 2 5 6 3 5 5 0 3 0 6 7 1 3 2 2 3 0 3 6 0 1 2 1 0 5\n",
      " 6 5 4 2 6 2 4 5 6 1 0 5 5 6 6 0 2 3 7 7 5 5 2 5 0 7 5 3 0 0 2 1 6 2 6 1 5\n",
      " 1 6 4 1 0 0 5 2 6 1 1 1 4 0 1 3 3 0 5 2 5 0 5 1 2 2 7 2 2 3 6 1 6 6 2 3 5\n",
      " 1 5 3 5 7 5 2 5 1 2 0 5 0 0 2 3 1 6 2 2 2 6 1 0 5 5 6 3 2 4 5 5 2 5 2 0 0\n",
      " 6 0 0 3 3 0 0 2 0 1 0 2 7 0 5 0 2 3 2 1 2 1 5 5 0 5 6 2 6 5 6 1 2 0 6 5 3\n",
      " 6 1 2 0 6 1 2 5 3 1 1 6 1 0 2 6 1 7 1 5 2 1 1 0 2 0 6 2 1 6 0 2 5 3 5 3 1\n",
      " 7 4 3 0 1 2 2 2 6 6 0 5 6 1 4 0 7 4 1 6 6 3 4 5 3 3 5 6 3 1 1 6 5 7 6 5 2\n",
      " 1 6 1 3 3 2 0 5 6 3 4 0 6 2 1 1 5 1 2 0 0 2 2 7 2 2 7 6 5 0 2 3 5 0 2 2 2\n",
      " 2 5 6 5 0 6 0 2 7 0 5 2 5 1 0 5 5 5]\n",
      "(425,)\n"
     ]
    }
   ],
   "source": [
    "print pred\n",
    "print pred.shape"
   ]
  },
  {
   "cell_type": "code",
   "execution_count": 10,
   "metadata": {
    "collapsed": false
   },
   "outputs": [
    {
     "name": "stdout",
     "output_type": "stream",
     "text": [
      "[5 2 6 2 6 1 1 6 3 0 3 2 5 5 1 0 3 6 5 4 5 5 1 0 5 4 3 6 0 1 0 3 1 6 5 6 1\n",
      " 3 1 1 5 5 2 2 1 2 1 1 5 3 0 3 2 0 3 4 0 6 0 2 1 6 5 4 5 5 3 1 7 2 1 3 1 5\n",
      " 3 6 6 6 1 0 4 3 6 0 3 5 5 6 2 1 4 4 7 3 5 4 6 4 6 2 4 1 6 2 6 1 6 1 6 6 7\n",
      " 2 5 0 2 1 5 1 4 0 1 5 3 2 5 6 0 5 7 0 3 5 6 7 1 3 2 2 3 0 3 6 0 1 2 1 0 5\n",
      " 6 5 4 2 6 2 4 5 6 4 0 5 7 6 6 0 2 3 7 7 1 5 2 5 0 7 5 3 0 0 2 1 6 2 6 1 5\n",
      " 1 6 4 1 0 0 5 2 6 1 1 1 4 0 0 3 3 0 5 2 3 0 5 1 2 2 5 2 2 3 6 1 6 6 2 3 5\n",
      " 1 5 3 5 4 3 2 5 1 2 0 5 0 0 2 3 1 6 2 2 2 6 1 0 5 3 6 3 2 4 5 5 2 5 2 0 0\n",
      " 6 0 0 5 3 1 0 2 0 1 0 2 7 0 5 0 2 3 2 1 2 1 4 5 0 5 6 2 6 5 6 1 2 0 6 5 3\n",
      " 6 1 2 0 6 1 2 5 0 1 1 6 1 0 2 6 1 7 1 5 2 1 1 0 2 0 6 2 1 6 0 2 5 3 5 3 3\n",
      " 7 4 3 0 1 2 2 2 6 6 0 5 6 1 4 0 7 4 1 6 6 3 4 5 3 3 5 6 5 1 1 6 5 7 6 5 2\n",
      " 1 6 1 3 3 2 0 0 6 3 4 0 6 2 3 1 5 1 2 0 0 2 2 7 2 2 7 6 5 0 2 3 5 5 2 2 2\n",
      " 2 5 6 3 0 6 0 2 0 0 5 2 5 1 0 5 5 5]\n"
     ]
    }
   ],
   "source": [
    "print y_test.values"
   ]
  },
  {
   "cell_type": "code",
   "execution_count": 12,
   "metadata": {
    "collapsed": false
   },
   "outputs": [],
   "source": [
    "X_testArray = X_test.values\n",
    "y_testArray = y_test.values\n",
    "# for i in range(len(X_test)):\n",
    "#     print X_testArray[i] \n",
    "#     print \"label: \", y_testArray[i] \n",
    "#     print \"predicted: \", pred[i]\n",
    "#     print \"\\n\""
   ]
  },
  {
   "cell_type": "raw",
   "metadata": {},
   "source": [
    "0=crime 1=disaster 2=entertainment 3=economic 4=health 5=political 6=sports 7=terrorism\n"
   ]
  },
  {
   "cell_type": "code",
   "execution_count": 13,
   "metadata": {
    "collapsed": false
   },
   "outputs": [
    {
     "name": "stdout",
     "output_type": "stream",
     "text": [
      "391\n",
      "34\n"
     ]
    }
   ],
   "source": [
    "correctCtr = 0\n",
    "wrongCtr = 0\n",
    "for i in range(len(X_test)):\n",
    "    if (y_testArray[i] == pred[i]):\n",
    "        correctCtr += 1\n",
    "    else:\n",
    "        wrongCtr += 1 \n",
    "\n",
    "print correctCtr\n",
    "print wrongCtr"
   ]
  },
  {
   "cell_type": "code",
   "execution_count": 17,
   "metadata": {
    "collapsed": false
   },
   "outputs": [
    {
     "data": {
      "text/plain": [
       "array([[59,  1,  0,  2,  0,  1,  0,  1],\n",
       "       [ 2, 63,  0,  0,  0,  1,  0,  0],\n",
       "       [ 0,  0, 72,  0,  0,  0,  0,  0],\n",
       "       [ 0,  2,  0, 37,  0,  9,  0,  0],\n",
       "       [ 0,  2,  0,  0, 20,  1,  0,  1],\n",
       "       [ 2,  1,  0,  2,  0, 64,  0,  2],\n",
       "       [ 0,  0,  1,  0,  0,  0, 63,  0],\n",
       "       [ 0,  0,  0,  0,  0,  3,  0, 13]])"
      ]
     },
     "execution_count": 17,
     "metadata": {},
     "output_type": "execute_result"
    }
   ],
   "source": [
    "# row : actual :: column : predicted \n",
    "confusion_matrix(y_testArray,pred)"
   ]
  },
  {
   "cell_type": "code",
   "execution_count": 21,
   "metadata": {
    "collapsed": false
   },
   "outputs": [
    {
     "data": {
      "text/plain": [
       "array([ 0.92913386,  0.93333333,  0.99310345,  0.83146067,  0.90909091,\n",
       "        0.85333333,  0.99212598,  0.78787879])"
      ]
     },
     "execution_count": 21,
     "metadata": {},
     "output_type": "execute_result"
    }
   ],
   "source": [
    "# calculate f-score for each category\n",
    "f1_score(y_testArray,pred, average=None)"
   ]
  },
  {
   "cell_type": "code",
   "execution_count": 22,
   "metadata": {
    "collapsed": false
   },
   "outputs": [
    {
     "data": {
      "text/plain": [
       "0.91996494034725085"
      ]
     },
     "execution_count": 22,
     "metadata": {},
     "output_type": "execute_result"
    }
   ],
   "source": [
    "# calculate f-score for each category\n",
    "f1_score(y_testArray,pred, average='weighted')"
   ]
  },
  {
   "cell_type": "code",
   "execution_count": 15,
   "metadata": {
    "collapsed": false
   },
   "outputs": [
    {
     "data": {
      "text/plain": [
       "array([6])"
      ]
     },
     "execution_count": 15,
     "metadata": {},
     "output_type": "execute_result"
    }
   ],
   "source": [
    "# REALLY NEW DATA OMGGGGG!!\n",
    "#UAAP: Ateneo pilay kontra FEU By Elech Dawa March 9 na news ni siya\n",
    "arr = \"target ateneo first round sweep harap far eastern university ngayon araw uaap season mens football tournament moro lorenzo field sikap blue eag­les  dagit sweep wala league-leading goalscorer jarvey gayoso nabigyan si sopho­more striker gayoso five goals season dalawa yellow cards suspendido laro kontra tamaraws kaldag una laro ust nu salo fourth place points kritikal laro dalawa habol sa final four bayani gayoso rookies sam lim enzo ceniza may maximum points ateneo lima puntos una segundong up feu tigatlong goals isasalpak ngayong season lim at ceniza nais tamaraws balik tikas depensa laban blue eagles\"\n",
    "testing = vectorizer.transform([arr])\n",
    "clf.predict(testing)"
   ]
  },
  {
   "cell_type": "code",
   "execution_count": 26,
   "metadata": {
    "collapsed": false
   },
   "outputs": [
    {
     "name": "stdout",
     "output_type": "stream",
     "text": [
      "Enter:mahal kita\n"
     ]
    },
    {
     "data": {
      "text/plain": [
       "array([2])"
      ]
     },
     "execution_count": 26,
     "metadata": {},
     "output_type": "execute_result"
    }
   ],
   "source": [
    "a = raw_input(\"Enter:\")\n",
    "a = remove_punct_num.removePunctuationAndNumbers(a)\n",
    "a = remove_stopwords.remove_stopwords(a)\n",
    "a = stemmer2.stem(a)\n",
    "testing = vectorizer.transform([a])\n",
    "clf.predict(testing)"
   ]
  },
  {
   "cell_type": "code",
   "execution_count": null,
   "metadata": {
    "collapsed": true
   },
   "outputs": [],
   "source": []
  },
  {
   "cell_type": "code",
   "execution_count": null,
   "metadata": {
    "collapsed": true
   },
   "outputs": [],
   "source": []
  }
 ],
 "metadata": {
  "kernelspec": {
   "display_name": "Python 2",
   "language": "python",
   "name": "python2"
  },
  "language_info": {
   "codemirror_mode": {
    "name": "ipython",
    "version": 2
   },
   "file_extension": ".py",
   "mimetype": "text/x-python",
   "name": "python",
   "nbconvert_exporter": "python",
   "pygments_lexer": "ipython2",
   "version": "2.7.11+"
  }
 },
 "nbformat": 4,
 "nbformat_minor": 1
}
