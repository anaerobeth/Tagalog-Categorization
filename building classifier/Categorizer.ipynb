{
 "cells": [
  {
   "cell_type": "code",
   "execution_count": 1,
   "metadata": {
    "collapsed": true
   },
   "outputs": [],
   "source": [
    "import pickle\n",
    "import csv\n",
    "from preprocessing import remove_punct_num\n",
    "from preprocessing import remove_stopwords\n",
    "from preprocessing import stemmer2"
   ]
  },
  {
   "cell_type": "code",
   "execution_count": 2,
   "metadata": {
    "collapsed": true
   },
   "outputs": [],
   "source": [
    "with open('categorizer.pkl', 'rb') as f:\n",
    "    clf = pickle.load(f)\n",
    "    \n",
    "with open('vectorizer.pkl', 'rb') as g:\n",
    "    vectorizer = pickle.load(g)"
   ]
  },
  {
   "cell_type": "code",
   "execution_count": 3,
   "metadata": {
    "collapsed": true
   },
   "outputs": [],
   "source": [
    "classes = {0:'Crime', 1:'Disaster', 2:'Entertainment', 3:'Economic', 4:'Health', 5:'Political',\n",
    "          6:'Sports', 7:'Terrorism'}"
   ]
  },
  {
   "cell_type": "code",
   "execution_count": 4,
   "metadata": {
    "collapsed": true
   },
   "outputs": [],
   "source": [
    "def preprocess(article):\n",
    "    remove_stopwords.list_stopwords()\n",
    "    return stemmer2.stem(remove_stopwords.remove_stopwords(remove_punct_num.removePunctuationAndNumbers(article.lower()).strip()).strip())"
   ]
  },
  {
   "cell_type": "code",
   "execution_count": 5,
   "metadata": {
    "collapsed": true
   },
   "outputs": [],
   "source": [
    "def store_original(article):\n",
    "    remove_stopwords.list_stopwords()\n",
    "    return remove_stopwords.remove_stopwords(remove_punct_num.removePunctuationAndNumbers(article.lower()).strip()).strip()"
   ]
  },
  {
   "cell_type": "code",
   "execution_count": 8,
   "metadata": {
    "collapsed": false
   },
   "outputs": [],
   "source": [
    "def categorize(article):\n",
    "    remove_stopwords.list_stopwords()\n",
    "    a = remove_punct_num.removePunctuationAndNumbers(article)\n",
    "    a = remove_stopwords.remove_stopwords(a)\n",
    "    a = stemmer2.stem(a)\n",
    "    testing = vectorizer.transform([a])\n",
    "\n",
    "#     print clf.predict(testing)\n",
    "    #classes.get(clf.predict(testing).item(0))\n",
    "    return clf.predict(testing).item(0)"
   ]
  },
  {
   "cell_type": "code",
   "execution_count": null,
   "metadata": {
    "collapsed": false,
    "scrolled": true
   },
   "outputs": [
    {
     "name": "stdout",
     "output_type": "stream",
     "text": [
      "5\n",
      "12\n",
      "19\n",
      "27\n",
      "29\n",
      "30\n",
      "34\n",
      "55\n",
      "79\n",
      "94\n",
      "100\n",
      "119\n"
     ]
    }
   ],
   "source": [
    "articles = []\n",
    "with open('../streamer/add2.csv') as readfile, open('../data/terrorism.csv','w') as writefile:\n",
    "    reader = csv.DictReader(readfile)\n",
    "\n",
    "    fieldnames = ['title', 'category','content', 'original']\n",
    "    writer = csv.DictWriter(writefile, fieldnames=fieldnames)\n",
    "\n",
    "    for row in reader:\n",
    "        articles.append(row)\n",
    "\n",
    "    writer.writeheader()\n",
    "    ctr = 0\n",
    "    for a in articles:\n",
    "        tmp = categorize(a['content'])\n",
    "        if (tmp==7):\n",
    "            writer.writerow({'title':a['title'], 'category':a['category'],'content': preprocess(a['content'].strip()), 'original':store_original(a['content'].strip())})\n",
    "            print ctr\n",
    "        ctr += 1"
   ]
  },
  {
   "cell_type": "code",
   "execution_count": null,
   "metadata": {
    "collapsed": true
   },
   "outputs": [],
   "source": []
  }
 ],
 "metadata": {
  "kernelspec": {
   "display_name": "Python 2",
   "language": "python",
   "name": "python2"
  },
  "language_info": {
   "codemirror_mode": {
    "name": "ipython",
    "version": 2
   },
   "file_extension": ".py",
   "mimetype": "text/x-python",
   "name": "python",
   "nbconvert_exporter": "python",
   "pygments_lexer": "ipython2",
   "version": "2.7.11+"
  }
 },
 "nbformat": 4,
 "nbformat_minor": 1
}
