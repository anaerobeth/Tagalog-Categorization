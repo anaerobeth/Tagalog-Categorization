{
 "cells": [
  {
   "cell_type": "code",
   "execution_count": 1,
   "metadata": {
    "collapsed": true
   },
   "outputs": [],
   "source": [
    "import pickle\n",
    "from preprocessing import remove_punct_num\n",
    "from preprocessing import remove_stopwords\n",
    "from preprocessing import stemmer2"
   ]
  },
  {
   "cell_type": "code",
   "execution_count": 2,
   "metadata": {
    "collapsed": true
   },
   "outputs": [],
   "source": [
    "with open('categorizer.pkl', 'rb') as f:\n",
    "    clf = pickle.load(f)\n",
    "    \n",
    "with open('vectorizer.pkl', 'rb') as g:\n",
    "    vectorizer = pickle.load(g)"
   ]
  },
  {
   "cell_type": "code",
   "execution_count": 3,
   "metadata": {
    "collapsed": true
   },
   "outputs": [],
   "source": [
    "classes = {0:'Crime', 1:'Disaster', 2:'Entertainment', 3:'Economic', 4:'Health', 5:'Political',\n",
    "          6:'Sports', 7:'Terrorism'}"
   ]
  },
  {
   "cell_type": "code",
   "execution_count": 6,
   "metadata": {
    "collapsed": false
   },
   "outputs": [
    {
     "name": "stdout",
     "output_type": "stream",
     "text": [
      "Enter:Itinapon na ni Mark Herras ang image niya noon na babaero. Lingid sa kaalaman ng marami, kapag nasa tabi na niya ang tukso, mas iniisip niya ang magagandang mawawala sa kanya kapag pinatos niya ‘yon.  “Ayokong magsisi sa bandang huli kapag pinatulan ko,” rason ni Mark sa presscon ng kinabibilangang dramedy series na D’Originals.  Hindi naman daw niya pinatulan ang lahat ng tuksong lumapit sa kanya.  “Hindi ko ginawa. Inisip ko ‘yung mawawala sa akin,” dugtong pa ng aktor.  Tanging sa girlfriend na si Winwyn Marquez nakasentro ang utak ni Mark ngayon. Pagdating sa pagpapakasal, after two years pa malamang na mangyari ‘yon. So ‘pag kinasal na siya, hindi na siya papatol sa tukso?  “Hindi naman ako pumapatol eh! Ha! Ha! Ha!” diin ni Mark.  Kasama rin sa male cast si Archie Alemania. Para sa kanya, hinahayaan lang niyang lumapit sa kanya ang tukso.  “Pinapatulan ko na rin! Ha! Ha! Ha! ‘Yun ‘yung dating Archie. Ngayon, gusto ko kay Jesus na. Pinagsawaan ko na lahat ng tukso!” sey naman ni Archie.  Sa TV plug ng programa, may eksenang sinugod siya ni Kim Domingo na asawa habang kalampungan niya si Meg Imperial. Nangyari na ba in real life ‘yon?  “Sa lahat siguro ng parte ng ano, nagawa ko na! Nasugod na po. Nakailang sugod na rin po!” diin ng aktor.    Malaking kinalaman ang pagkakakilala niya sa Diyos kaya winalis na niyang lahat ang kalokohan sa buhay niya.  “Totoo po ‘yon. Christian po ako nga­yon,” katwiran ni Archie.  Para naman kay Jestoni Alarcon, magdasal para hindi matukso.  “Wala nang tukso ngayon! Ayoko na! Ha! Ha! Ha!  “Actually, kami ng wife ko, nagkaroon ng renewal of vows sa 25 years naming married. Wala namang perpektong marriage pero we’re doing our best!” deklara ni Jestoni.  Ang D’Originals ang papalit sa magwawakas nang Pinulot Ka Lang Sa Lupa as GMA afternoon prime.\n",
      "[2]\n"
     ]
    },
    {
     "data": {
      "text/plain": [
       "'Entertainment'"
      ]
     },
     "execution_count": 6,
     "metadata": {},
     "output_type": "execute_result"
    }
   ],
   "source": [
    "a = raw_input(\"Enter:\\n\")\n",
    "a = remove_punct_num.removePunctuationAndNumbers(a)\n",
    "a = remove_stopwords.remove_stopwords(a)\n",
    "a = stemmer2.stem(a)\n",
    "testing = vectorizer.transform([a])\n",
    "\n",
    "print clf.predict(testing)\n",
    "classes.get(clf.predict(testing).item(0))"
   ]
  },
  {
   "cell_type": "code",
   "execution_count": null,
   "metadata": {
    "collapsed": true
   },
   "outputs": [],
   "source": []
  }
 ],
 "metadata": {
  "kernelspec": {
   "display_name": "Python 2",
   "language": "python",
   "name": "python2"
  },
  "language_info": {
   "codemirror_mode": {
    "name": "ipython",
    "version": 2
   },
   "file_extension": ".py",
   "mimetype": "text/x-python",
   "name": "python",
   "nbconvert_exporter": "python",
   "pygments_lexer": "ipython2",
   "version": "2.7.11+"
  }
 },
 "nbformat": 4,
 "nbformat_minor": 1
}
