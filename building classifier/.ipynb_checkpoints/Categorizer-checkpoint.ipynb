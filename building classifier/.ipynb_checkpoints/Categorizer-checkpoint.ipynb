{
 "cells": [
  {
   "cell_type": "code",
   "execution_count": 1,
   "metadata": {
    "collapsed": true
   },
   "outputs": [],
   "source": [
    "import pickle\n",
    "import csv\n",
    "from preprocessing import remove_punct_num\n",
    "from preprocessing import remove_stopwords\n",
    "from preprocessing import stemmer2"
   ]
  },
  {
   "cell_type": "code",
   "execution_count": 2,
   "metadata": {
    "collapsed": true
   },
   "outputs": [],
   "source": [
    "with open('categorizer.pkl', 'rb') as f:\n",
    "    clf = pickle.load(f)\n",
    "    \n",
    "with open('vectorizer.pkl', 'rb') as g:\n",
    "    vectorizer = pickle.load(g)"
   ]
  },
  {
   "cell_type": "code",
   "execution_count": 3,
   "metadata": {
    "collapsed": true
   },
   "outputs": [],
   "source": [
    "classes = {0:'Crime', 1:'Disaster', 2:'Entertainment', 3:'Economic', 4:'Health', 5:'Political',\n",
    "          6:'Sports', 7:'Terrorism'}"
   ]
  },
  {
   "cell_type": "code",
   "execution_count": 4,
   "metadata": {
    "collapsed": true
   },
   "outputs": [],
   "source": [
    "def preprocess(article):\n",
    "    remove_stopwords.list_stopwords()\n",
    "    return stemmer2.stem(remove_stopwords.remove_stopwords(remove_punct_num.removePunctuationAndNumbers(article.lower()).strip()).strip())"
   ]
  },
  {
   "cell_type": "code",
   "execution_count": 5,
   "metadata": {
    "collapsed": true
   },
   "outputs": [],
   "source": [
    "def store_original(article):\n",
    "    remove_stopwords.list_stopwords()\n",
    "    return remove_stopwords.remove_stopwords(remove_punct_num.removePunctuationAndNumbers(article.lower()).strip()).strip()"
   ]
  },
  {
   "cell_type": "code",
   "execution_count": 6,
   "metadata": {
    "collapsed": false
   },
   "outputs": [],
   "source": [
    "def categorize(article):\n",
    "    remove_stopwords.list_stopwords()\n",
    "    a = remove_punct_num.removePunctuationAndNumbers(article)\n",
    "    a = remove_stopwords.remove_stopwords(a)\n",
    "    a = stemmer2.stem(a)\n",
    "    testing = vectorizer.transform([a])\n",
    "\n",
    "#     print clf.predict(testing)\n",
    "    #classes.get(clf.predict(testing).item(0))\n",
    "    return clf.predict(testing).item(0)"
   ]
  },
  {
   "cell_type": "code",
   "execution_count": null,
   "metadata": {
    "collapsed": false,
    "scrolled": true
   },
   "outputs": [
    {
     "name": "stdout",
     "output_type": "stream",
     "text": [
      "5\n",
      "12\n",
      "19\n",
      "27\n",
      "29\n",
      "30\n",
      "34\n",
      "55\n",
      "79\n",
      "94\n",
      "100\n",
      "119\n",
      "128\n",
      "134\n",
      "143\n",
      "159\n",
      "163\n",
      "167\n",
      "202\n",
      "214\n",
      "222\n",
      "227\n",
      "259\n",
      "260\n",
      "278\n",
      "291\n",
      "292\n",
      "323\n",
      "329\n",
      "373\n",
      "382\n",
      "384\n",
      "393\n",
      "405\n",
      "415\n",
      "441\n",
      "448\n",
      "461\n",
      "481\n",
      "537\n",
      "570\n",
      "571\n",
      "589\n",
      "640\n",
      "646\n",
      "650\n",
      "652\n",
      "656\n",
      "675\n",
      "691\n",
      "692\n",
      "695\n",
      "697\n",
      "722\n",
      "800\n",
      "820\n",
      "822\n",
      "834\n",
      "863\n",
      "885\n",
      "891\n",
      "901\n",
      "904\n",
      "928\n",
      "934\n",
      "935\n",
      "962\n",
      "965\n",
      "968\n",
      "1037\n",
      "1096\n",
      "1141\n",
      "1144\n",
      "1184\n",
      "1190\n",
      "1232\n",
      "1233\n",
      "1244\n",
      "1253\n",
      "1255\n",
      "1260\n",
      "1290\n",
      "1293\n",
      "1334\n",
      "1357\n",
      "1368\n",
      "1374\n",
      "1403\n",
      "1416\n",
      "1417\n",
      "1421\n",
      "1441\n",
      "1458\n",
      "1467\n",
      "1499\n",
      "1541\n",
      "1548\n",
      "1577\n",
      "1579\n",
      "1600\n",
      "1603\n",
      "1613\n",
      "1648\n",
      "1650\n",
      "1660\n",
      "1677\n",
      "1683\n",
      "1689\n",
      "1697\n",
      "1719\n",
      "1721\n",
      "1725\n",
      "1740\n",
      "1743\n",
      "1746\n",
      "1749\n",
      "1751\n",
      "1771\n",
      "1775\n",
      "1795\n",
      "1831\n",
      "1845\n",
      "1850\n",
      "1857\n",
      "1887\n",
      "1903\n",
      "1907\n",
      "1930\n",
      "1960\n",
      "1970\n",
      "1980\n",
      "1981\n",
      "2010\n",
      "2022\n",
      "2023\n",
      "2024\n",
      "2046\n",
      "2074\n",
      "2077\n",
      "2086\n",
      "2095\n",
      "2119\n",
      "2164\n",
      "2189\n",
      "2195\n",
      "2209\n",
      "2214\n",
      "2230\n",
      "2232\n",
      "2234\n",
      "2267\n",
      "2288\n",
      "2290\n",
      "2317\n",
      "2324\n",
      "2326\n",
      "2329\n",
      "2358\n",
      "2373\n",
      "2376\n",
      "2412\n",
      "2421\n",
      "2429\n",
      "2448\n",
      "2456\n",
      "2459\n",
      "2461\n",
      "2465\n"
     ]
    }
   ],
   "source": [
    "articles = []\n",
    "with open('../streamer/add2.csv') as readfile, open('../data/terrorism.csv','w') as writefile:\n",
    "    reader = csv.DictReader(readfile)\n",
    "\n",
    "    fieldnames = ['title', 'category','content', 'original']\n",
    "    writer = csv.DictWriter(writefile, fieldnames=fieldnames)\n",
    "\n",
    "    for row in reader:\n",
    "        articles.append(row)\n",
    "\n",
    "    writer.writeheader()\n",
    "    ctr = 0\n",
    "    for a in articles:\n",
    "        tmp = categorize(a['content'])\n",
    "        if (tmp==7):\n",
    "            writer.writerow({'title':a['title'], 'category':a['category'],'content': preprocess(a['content'].strip()), 'original':store_original(a['content'].strip())})\n",
    "            print ctr\n",
    "        ctr += 1"
   ]
  },
  {
   "cell_type": "code",
   "execution_count": null,
   "metadata": {
    "collapsed": true
   },
   "outputs": [],
   "source": []
  }
 ],
 "metadata": {
  "kernelspec": {
   "display_name": "Python 2",
   "language": "python",
   "name": "python2"
  },
  "language_info": {
   "codemirror_mode": {
    "name": "ipython",
    "version": 2
   },
   "file_extension": ".py",
   "mimetype": "text/x-python",
   "name": "python",
   "nbconvert_exporter": "python",
   "pygments_lexer": "ipython2",
   "version": "2.7.11+"
  }
 },
 "nbformat": 4,
 "nbformat_minor": 1
}
